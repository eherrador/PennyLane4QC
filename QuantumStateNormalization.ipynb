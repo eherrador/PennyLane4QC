{
  "nbformat": 4,
  "nbformat_minor": 0,
  "metadata": {
    "colab": {
      "provenance": [],
      "authorship_tag": "ABX9TyNVfIuIKpvXccVGfyB1Mu46",
      "include_colab_link": true
    },
    "kernelspec": {
      "name": "python3",
      "display_name": "Python 3"
    },
    "language_info": {
      "name": "python"
    }
  },
  "cells": [
    {
      "cell_type": "markdown",
      "metadata": {
        "id": "view-in-github",
        "colab_type": "text"
      },
      "source": [
        "<a href=\"https://colab.research.google.com/github/eherrador/PennyLane4QC/blob/main/QuantumStateNormalization.ipynb\" target=\"_parent\"><img src=\"https://colab.research.google.com/assets/colab-badge.svg\" alt=\"Open In Colab\"/></a>"
      ]
    },
    {
      "cell_type": "markdown",
      "source": [
        "Given an unnormalized vector\n",
        "\n",
        "$|\\psi\\rangle = \\alpha |0\\rangle + \\beta |1\\rangle$,\t$|\\alpha|^2 + |\\beta|^2 \\neq 1$\n",
        "\n",
        "We can turn this into an equivalent, valid quantum state $|\\psi'\\rangle$ by normalizing it. The task is to complete the function (```normalize_state```) so that, given $\\alpha$ and $\\beta$, it normalizes this state to\n",
        "\n",
        "$|\\psi'\\rangle =  \\alpha' |0\\rangle + \\beta' |1\\rangle$,\t$|\\alpha|^2 + |\\beta|^2 = 1$\n",
        "\n",
        "**Hint**\n",
        "What we must do here is essentially rescale the coefficients of the state vector such that it has unit length. That is, there must be some complex number $k$ such that:\n",
        "\n",
        "$\\alpha' = k\\alpha$,\t$\\beta' = k\\beta$, and $|\\alpha|^2 + |\\beta|^2 = 1$\n",
        "\n",
        "Consider how you would do so for a real-valued vector, then determine how to manipulate the amplitudes in the complex case."
      ],
      "metadata": {
        "id": "l177o1bD6q1Y"
      }
    },
    {
      "cell_type": "code",
      "source": [
        "import numpy as np"
      ],
      "metadata": {
        "id": "yvt5O1Sh6yR-"
      },
      "execution_count": 1,
      "outputs": []
    },
    {
      "cell_type": "code",
      "source": [
        "# Here are the vector representations of |0> and |1>, for convenience\n",
        "ket_0 = np.array([1, 0])\n",
        "ket_1 = np.array([0, 1])\n",
        "\n",
        "def normalize_state(alpha, beta):\n",
        "    \"\"\"Compute a normalized quantum state given arbitrary amplitudes.\n",
        "\n",
        "    Args:\n",
        "        alpha (complex): The amplitude associated with the |0> state.\n",
        "        beta (complex): The amplitude associated with the |1> state.\n",
        "\n",
        "    Returns:\n",
        "        np.array[complex]: A vector (numpy array) with 2 elements that represents\n",
        "        a normalized quantum state.\n",
        "    \"\"\"\n",
        "\n",
        "    # Calculate the magnitude (norm) of the state vector\n",
        "    norm = np.sqrt(abs(alpha)**2 + abs(beta)**2)\n",
        "\n",
        "    # Create a normalized vector [a', b'] such that |a'|^2 + |b'|^2 = 1\n",
        "    alpha_normalized = alpha / norm\n",
        "    beta_normalized = beta / norm\n",
        "\n",
        "    # Return the normalized vector\n",
        "    return np.array([alpha_normalized, beta_normalized])"
      ],
      "metadata": {
        "id": "X9aqQTli67CV"
      },
      "execution_count": 2,
      "outputs": []
    },
    {
      "cell_type": "code",
      "source": [
        "# Example usage\n",
        "alpha = 1 + 1j\n",
        "beta = 2 - 1j\n",
        "normalized_vector = normalize_state(alpha, beta)\n",
        "print(\"Normalized state:\", normalized_vector)\n",
        "alpha = 13 + 1j\n",
        "beta = 22 - 1j\n",
        "normalized_vector = normalize_state(alpha, beta)\n",
        "print(\"Normalized state:\", normalized_vector)"
      ],
      "metadata": {
        "colab": {
          "base_uri": "https://localhost:8080/"
        },
        "id": "_0DmbzGu6_gX",
        "outputId": "09ac4d20-1889-474f-ff35-5286ad154818"
      },
      "execution_count": 4,
      "outputs": [
        {
          "output_type": "stream",
          "name": "stdout",
          "text": [
            "Normalized state: [0.37796447+0.37796447j 0.75592895-0.37796447j]\n",
            "Normalized state: [0.50795203+0.03907323j 0.85961113-0.03907323j]\n"
          ]
        }
      ]
    }
  ]
}