{
  "nbformat": 4,
  "nbformat_minor": 0,
  "metadata": {
    "colab": {
      "provenance": [],
      "authorship_tag": "ABX9TyOWoLM2HnKpTSoG3r4v9gMP",
      "include_colab_link": true
    },
    "kernelspec": {
      "name": "python3",
      "display_name": "Python 3"
    },
    "language_info": {
      "name": "python"
    }
  },
  "cells": [
    {
      "cell_type": "markdown",
      "metadata": {
        "id": "view-in-github",
        "colab_type": "text"
      },
      "source": [
        "<a href=\"https://colab.research.google.com/github/eherrador/PennyLane4QC/blob/main/InnerProduct_OrthonormalBases.ipynb\" target=\"_parent\"><img src=\"https://colab.research.google.com/assets/colab-badge.svg\" alt=\"Open In Colab\"/></a>"
      ]
    },
    {
      "cell_type": "markdown",
      "source": [
        "# Problem\n",
        "Complete the `inner_product` function below that computes the inner product between two arbitrary states. Then, use it to verify that $|0\\rangle$ and $|1\\rangle$ form an **orthonormal basis**, i.e., the states are normalized and orthogonal."
      ],
      "metadata": {
        "id": "M0DtUsLyBin6"
      }
    },
    {
      "cell_type": "markdown",
      "source": [
        "# Introduction\n",
        "Let's solve the `inner_product` function, which calculates the inner product between two vectors of quantum states. This inner product is crucial to verify orthonormality, which means that:\n",
        "\n",
        "* **Vectors are normalized**: The inner product of a vector with itself equals 1.\n",
        "* **Vectors are orthogonal**: The inner product of two different vectors equals 0.\n",
        "\n",
        "The inner product in linear algebra is calculated by the conjugate transposition of one of the vectors and multiplication with the second vector."
      ],
      "metadata": {
        "id": "I70RtKGJEV-V"
      }
    },
    {
      "cell_type": "code",
      "source": [
        "import numpy as np"
      ],
      "metadata": {
        "id": "AkILP10sBiOA"
      },
      "execution_count": 1,
      "outputs": []
    },
    {
      "cell_type": "code",
      "execution_count": 2,
      "metadata": {
        "id": "VKoMCSCOBdJF"
      },
      "outputs": [],
      "source": [
        "def inner_product(state_1, state_2):\n",
        "    \"\"\"Compute the inner product between two states.\n",
        "\n",
        "    Args:\n",
        "        state_1 (np.array[complex]): A normalized quantum state vector\n",
        "        state_2 (np.array[complex]): A second normalized quantum state vector\n",
        "\n",
        "    Returns:\n",
        "        complex: The value of the inner product <state_1 | state_2>.\n",
        "    \"\"\"\n",
        "\n",
        "    # Compute the inner product: state_1 conjugate transposed times state_2\n",
        "    inner_product_value = np.vdot(state_1, state_2)\n",
        "\n",
        "    return inner_product_value"
      ]
    },
    {
      "cell_type": "code",
      "source": [
        "# Test your results with this code\n",
        "ket_0 = np.array([1, 0])\n",
        "ket_1 = np.array([0, 1])\n",
        "\n",
        "print(f\"<0|0> = {inner_product(ket_0, ket_0)}\")\n",
        "print(f\"<0|1> = {inner_product(ket_0, ket_1)}\")\n",
        "print(f\"<1|0> = {inner_product(ket_1, ket_0)}\")\n",
        "print(f\"<1|1> = {inner_product(ket_1, ket_1)}\")"
      ],
      "metadata": {
        "colab": {
          "base_uri": "https://localhost:8080/"
        },
        "id": "UKUC5tu6DkT5",
        "outputId": "a0b57a1a-ab5e-4b2f-c86f-4b930718cf7d"
      },
      "execution_count": 3,
      "outputs": [
        {
          "output_type": "stream",
          "name": "stdout",
          "text": [
            "<0|0> = 1\n",
            "<0|1> = 0\n",
            "<1|0> = 0\n",
            "<1|1> = 1\n"
          ]
        }
      ]
    },
    {
      "cell_type": "markdown",
      "source": [
        "# Explanation\n",
        "#### Inner Product:\n",
        "Use `np.vdot(state_1, state_2)` to calculate the inner product. The `np.vdot()` function takes the complex conjugate of the first vector (state_1) and multiplies it with the second vector (state_2). This operation is essential to correctly calculate the inner product between two vectors of complex numbers.\n",
        "\n",
        "#### Orthonormality Check:\n",
        "\n",
        "<0|0> and <1|1> should equal 1 if the vectors are normalized.\n",
        "<0|1> and <1|0> should equal 0 if the vectors are orthogonal."
      ],
      "metadata": {
        "id": "hF_7rNmcFEDm"
      }
    },
    {
      "cell_type": "markdown",
      "source": [
        "# Relation to Linear Algebra\n",
        "The **inner product** between two vectors $\\vec{u}$ y $\\vec{v}$ is defined as: ⟨u∣v⟩=$u_1^*v_1$+$u_2^*v_2$+⋯+$u_n^*v_n$​ donde $u_i^*$ denotes the **complex conjugate** of the component $u_i$.\n",
        "\n",
        "- The vectors `|0⟩` and `|1⟩` form an **orthonormal basis**, which means that they are a basis of the Hilbert space in which any quantum state can be represented as a linear combination of these vectors."
      ],
      "metadata": {
        "id": "ejRFtLosHvOE"
      }
    }
  ]
}