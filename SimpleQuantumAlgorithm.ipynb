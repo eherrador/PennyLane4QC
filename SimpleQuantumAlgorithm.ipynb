{
  "nbformat": 4,
  "nbformat_minor": 0,
  "metadata": {
    "colab": {
      "provenance": [],
      "authorship_tag": "ABX9TyOJixqELwGhBQeOcLSCU0rH",
      "include_colab_link": true
    },
    "kernelspec": {
      "name": "python3",
      "display_name": "Python 3"
    },
    "language_info": {
      "name": "python"
    }
  },
  "cells": [
    {
      "cell_type": "markdown",
      "metadata": {
        "id": "view-in-github",
        "colab_type": "text"
      },
      "source": [
        "<a href=\"https://colab.research.google.com/github/eherrador/PennyLane4QC/blob/main/SimpleQuantumAlgorithm.ipynb\" target=\"_parent\"><img src=\"https://colab.research.google.com/assets/colab-badge.svg\" alt=\"Open In Colab\"/></a>"
      ]
    },
    {
      "cell_type": "markdown",
      "source": [
        "The quantum algorithm that does the following:\n",
        "\n",
        "1. Initialize a qubit in state $|0\\rangle$\n",
        "2. Apply the provided operation $U$\n",
        "3. Simulate measuring the output state 100 times"
      ],
      "metadata": {
        "id": "Qp8VG1dAZWA5"
      }
    },
    {
      "cell_type": "code",
      "source": [
        "import numpy as np"
      ],
      "metadata": {
        "id": "M371VL_iZgZu"
      },
      "execution_count": 1,
      "outputs": []
    },
    {
      "cell_type": "code",
      "source": [
        "U = np.array([[1, 1], [1, -1]]) / np.sqrt(2)"
      ],
      "metadata": {
        "id": "lBJ67SqbZxX5"
      },
      "execution_count": 2,
      "outputs": []
    },
    {
      "cell_type": "code",
      "source": [
        "def initialize_state():\n",
        "    \"\"\"Prepare a qubit in state |0>.\n",
        "\n",
        "    Returns:\n",
        "        np.array[float]: the vector representation of state |0>.\n",
        "    \"\"\"\n",
        "\n",
        "    # Prepare the state |0⟩\n",
        "    return np.array([1, 0], dtype=complex)"
      ],
      "metadata": {
        "id": "sUy6bR0iZx_y"
      },
      "execution_count": 3,
      "outputs": []
    },
    {
      "cell_type": "code",
      "source": [
        "def apply_u(state):\n",
        "    \"\"\"Apply a quantum operation.\"\"\"\n",
        "    return np.dot(U, state)"
      ],
      "metadata": {
        "id": "0IzHAjIfZ5FH"
      },
      "execution_count": 4,
      "outputs": []
    },
    {
      "cell_type": "code",
      "source": [
        "def measure_state(state, num_meas):\n",
        "    \"\"\"Measure a quantum state num_meas times.\"\"\"\n",
        "    p_alpha = np.abs(state[0]) ** 2\n",
        "    p_beta = np.abs(state[1]) ** 2\n",
        "    meas_outcome = np.random.choice([0, 1], p=[p_alpha, p_beta], size=num_meas)\n",
        "    return meas_outcome"
      ],
      "metadata": {
        "id": "SmGAMV1VaMGO"
      },
      "execution_count": 5,
      "outputs": []
    },
    {
      "cell_type": "code",
      "source": [
        "def quantum_algorithm():\n",
        "    \"\"\"Use the functions above to implement the quantum algorithm described above.\n",
        "\n",
        "    Try and do so using three lines of code or less!\n",
        "\n",
        "    Returns:\n",
        "        np.array[int]: the measurement results after running the algorithm 100 times\n",
        "    \"\"\"\n",
        "    # Prepare the state, apply U, then take 100 measurement samples\n",
        "    state = initialize_state()\n",
        "    new_state = apply_u(state)\n",
        "    measurements = measure_state(new_state, 100)\n",
        "\n",
        "    return measurements"
      ],
      "metadata": {
        "id": "YCDPXUEuaPV1"
      },
      "execution_count": 6,
      "outputs": []
    },
    {
      "cell_type": "code",
      "source": [
        "# Run the quantum algorithm with the Hadamard gate\n",
        "results = quantum_algorithm()\n",
        "print(f\"Measurement results: {results}\")"
      ],
      "metadata": {
        "colab": {
          "base_uri": "https://localhost:8080/"
        },
        "id": "2PdT-ENWaSAU",
        "outputId": "a729e288-8d6e-4ace-db5c-4c01d6448fde"
      },
      "execution_count": 7,
      "outputs": [
        {
          "output_type": "stream",
          "name": "stdout",
          "text": [
            "Measurement results: [0 1 1 0 0 0 1 1 1 0 0 1 0 1 1 1 0 1 1 0 0 0 0 1 0 0 0 1 0 0 1 0 1 1 0 0 0\n",
            " 0 1 0 1 0 0 1 0 1 1 0 1 1 0 0 1 0 0 1 1 0 1 0 1 0 0 1 1 0 0 0 1 1 0 0 0 0\n",
            " 1 1 0 0 0 1 0 1 0 0 0 1 1 1 1 0 1 0 0 1 1 1 1 0 1 0]\n"
          ]
        }
      ]
    }
  ]
}